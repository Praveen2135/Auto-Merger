{
 "cells": [
  {
   "cell_type": "code",
   "execution_count": 1,
   "id": "d58169d0",
   "metadata": {},
   "outputs": [],
   "source": [
    "import pandas as pd\n",
    "import numpy as np"
   ]
  },
  {
   "cell_type": "code",
   "execution_count": 2,
   "id": "3c1e7245",
   "metadata": {},
   "outputs": [],
   "source": [
    "current_DF = pd.read_excel('current.xlsx')\n",
    "previous_DF = pd.read_excel('Previous.xlsx')"
   ]
  },
  {
   "cell_type": "code",
   "execution_count": 3,
   "id": "b78b1af0",
   "metadata": {},
   "outputs": [
    {
     "data": {
      "text/html": [
       "<div>\n",
       "<style scoped>\n",
       "    .dataframe tbody tr th:only-of-type {\n",
       "        vertical-align: middle;\n",
       "    }\n",
       "\n",
       "    .dataframe tbody tr th {\n",
       "        vertical-align: top;\n",
       "    }\n",
       "\n",
       "    .dataframe thead th {\n",
       "        text-align: right;\n",
       "    }\n",
       "</style>\n",
       "<table border=\"1\" class=\"dataframe\">\n",
       "  <thead>\n",
       "    <tr style=\"text-align: right;\">\n",
       "      <th></th>\n",
       "      <th>Unnamed: 0</th>\n",
       "      <th>Recent</th>\n",
       "      <th>Previous</th>\n",
       "    </tr>\n",
       "  </thead>\n",
       "  <tbody>\n",
       "    <tr>\n",
       "      <th>0</th>\n",
       "      <td>revenue</td>\n",
       "      <td>1253</td>\n",
       "      <td>1156</td>\n",
       "    </tr>\n",
       "    <tr>\n",
       "      <th>1</th>\n",
       "      <td>expences</td>\n",
       "      <td>-546</td>\n",
       "      <td>-465</td>\n",
       "    </tr>\n",
       "    <tr>\n",
       "      <th>2</th>\n",
       "      <td>gross profit</td>\n",
       "      <td>707</td>\n",
       "      <td>691</td>\n",
       "    </tr>\n",
       "    <tr>\n",
       "      <th>3</th>\n",
       "      <td>tax</td>\n",
       "      <td>-24</td>\n",
       "      <td>0</td>\n",
       "    </tr>\n",
       "    <tr>\n",
       "      <th>4</th>\n",
       "      <td>net profit(loss)</td>\n",
       "      <td>683</td>\n",
       "      <td>691</td>\n",
       "    </tr>\n",
       "    <tr>\n",
       "      <th>5</th>\n",
       "      <td>NaN</td>\n",
       "      <td>55</td>\n",
       "      <td>45</td>\n",
       "    </tr>\n",
       "    <tr>\n",
       "      <th>6</th>\n",
       "      <td>revenue</td>\n",
       "      <td>155</td>\n",
       "      <td>145</td>\n",
       "    </tr>\n",
       "  </tbody>\n",
       "</table>\n",
       "</div>"
      ],
      "text/plain": [
       "         Unnamed: 0  Recent  Previous\n",
       "0           revenue    1253      1156\n",
       "1          expences    -546      -465\n",
       "2      gross profit     707       691\n",
       "3               tax     -24         0\n",
       "4  net profit(loss)     683       691\n",
       "5               NaN      55        45\n",
       "6           revenue     155       145"
      ]
     },
     "execution_count": 3,
     "metadata": {},
     "output_type": "execute_result"
    }
   ],
   "source": [
    "current_DF"
   ]
  },
  {
   "cell_type": "code",
   "execution_count": 14,
   "id": "ddcb3f34",
   "metadata": {},
   "outputs": [
    {
     "data": {
      "text/plain": [
       "[False, False, False, False, False, False, True]"
      ]
     },
     "execution_count": 14,
     "metadata": {},
     "output_type": "execute_result"
    }
   ],
   "source": [
    "(previous_DF['Unnamed: 0'].duplicated().tolist()"
   ]
  },
  {
   "cell_type": "code",
   "execution_count": 15,
   "id": "cbbb45b3",
   "metadata": {},
   "outputs": [
    {
     "data": {
      "text/plain": [
       "[False, False, False, False, True, False, False]"
      ]
     },
     "execution_count": 15,
     "metadata": {},
     "output_type": "execute_result"
    }
   ],
   "source": [
    "(previous_DF['previous'].duplicated().tolist())"
   ]
  },
  {
   "cell_type": "code",
   "execution_count": null,
   "id": "4d8e1d84",
   "metadata": {},
   "outputs": [],
   "source": []
  },
  {
   "cell_type": "code",
   "execution_count": 5,
   "id": "7a610d77",
   "metadata": {},
   "outputs": [],
   "source": [
    "if True in (previous_DF['previous'].duplicated().tolist()):\n",
    "    duplicate=(previous_DF[previous_DF['previous'].duplicated()])['previous'].tolist()\n",
    "    duplicate_particulars = (previous_DF[previous_DF['previous'] == duplicate[0]])['Unnamed: 0'].tolist()\n",
    "else:\n",
    "    print('No Dublication')"
   ]
  },
  {
   "cell_type": "code",
   "execution_count": 6,
   "id": "8febb9e8",
   "metadata": {},
   "outputs": [
    {
     "name": "stdout",
     "output_type": "stream",
     "text": [
      "[691]\n",
      "['gross profit (loss)', 'net profit']\n"
     ]
    }
   ],
   "source": [
    "print(duplicate)\n",
    "print(duplicate_particulars)"
   ]
  },
  {
   "cell_type": "code",
   "execution_count": 7,
   "id": "f2dfbbc7",
   "metadata": {},
   "outputs": [
    {
     "data": {
      "text/plain": [
       "'gross profit (loss)'"
      ]
     },
     "execution_count": 7,
     "metadata": {},
     "output_type": "execute_result"
    }
   ],
   "source": [
    "duplicate_particulars[0]"
   ]
  },
  {
   "cell_type": "code",
   "execution_count": 17,
   "id": "a18a45d5",
   "metadata": {},
   "outputs": [
    {
     "name": "stdout",
     "output_type": "stream",
     "text": [
      "1156\n",
      "1156\n",
      "--------------------------\n",
      "-465\n",
      "-465\n",
      "--------------------------\n",
      "Dublicate found  gross profit\n",
      "1 gross profit (loss)\n",
      "2 net profit\n",
      "Select number to which you want to mearg :-  gross profit\n",
      "1\n",
      "0\n",
      "0\n",
      "--------------------------\n",
      "Dublicate found  net profit(loss)\n",
      "1 gross profit (loss)\n",
      "2 net profit\n",
      "Select number to which you want to mearg :-  net profit(loss)\n",
      "2\n",
      "45\n",
      "45\n",
      "--------------------------\n",
      "145\n",
      "145\n",
      "--------------------------\n"
     ]
    }
   ],
   "source": [
    "previous_DF['current'] = np.nan\n",
    "for i in range (0,len(current_DF)):\n",
    "    for j in range (0,len(previous_DF)):\n",
    "        \n",
    "        if True not in (previous_DF['Unnamed: 0'].duplicated().tolist()):\n",
    "            \n",
    "            if current_DF['Unnamed: 0'][i] == previous_DF['Unnamed: 0'][j]:\n",
    "                print(current_DF['Unnamed: 0'][i])\n",
    "                print(previous_DF['Unnamed: 0'][j])\n",
    "                previous_DF.iat[i,len(previous_DF.columns)-1] = current_DF['Recent'][i]\n",
    "                print('----------------------------')\n",
    "                break\n",
    "            \n",
    "            \n",
    "        elif current_DF['Previous'][i] in duplicate:\n",
    "            print('Dublicate found ',current_DF['Unnamed: 0'][i])\n",
    "            num=1\n",
    "            while num <= (len(duplicate_particulars)):\n",
    "                print(num, duplicate_particulars[num-1])\n",
    "                num=num+1\n",
    "                \n",
    "            print('Select number to which you want to mearg :- ',current_DF['Unnamed: 0'][i])\n",
    "            user_in = int(input())\n",
    "            tabel_num=previous_DF['Unnamed: 0'].tolist().index(duplicate_particulars[user_in-1])\n",
    "            previous_DF.iat[tabel_num,len(previous_DF.columns)-1] = current_DF['Recent'][i]\n",
    "            \n",
    "            break\n",
    "                    \n",
    "        elif current_DF['Previous'][i] == previous_DF['previous'][j]:\n",
    "            print(current_DF['Previous'][i])\n",
    "            print(previous_DF['previous'][j])\n",
    "            previous_DF.iat[i,len(previous_DF.columns)-1] = current_DF['Recent'][i]\n",
    "            print('--------------------------')\n",
    "            break\n",
    "                \n",
    "        \n",
    "        #else:\n",
    "            #print(current_DF['Unnamed: 0'][i],' Name Not matching with ',previous_DF['Unnamed: 0'][j])\n",
    "            #print(current_DF['Previous'][i], ' For this back data is not matching ',previous_DF['previous'][j])"
   ]
  },
  {
   "cell_type": "code",
   "execution_count": null,
   "id": "e7324b16",
   "metadata": {},
   "outputs": [],
   "source": []
  },
  {
   "cell_type": "code",
   "execution_count": 9,
   "id": "104d933c",
   "metadata": {},
   "outputs": [
    {
     "data": {
      "text/html": [
       "<div>\n",
       "<style scoped>\n",
       "    .dataframe tbody tr th:only-of-type {\n",
       "        vertical-align: middle;\n",
       "    }\n",
       "\n",
       "    .dataframe tbody tr th {\n",
       "        vertical-align: top;\n",
       "    }\n",
       "\n",
       "    .dataframe thead th {\n",
       "        text-align: right;\n",
       "    }\n",
       "</style>\n",
       "<table border=\"1\" class=\"dataframe\">\n",
       "  <thead>\n",
       "    <tr style=\"text-align: right;\">\n",
       "      <th></th>\n",
       "      <th>Unnamed: 0</th>\n",
       "      <th>previous</th>\n",
       "      <th>current</th>\n",
       "    </tr>\n",
       "  </thead>\n",
       "  <tbody>\n",
       "    <tr>\n",
       "      <th>0</th>\n",
       "      <td>revenue</td>\n",
       "      <td>1156</td>\n",
       "      <td>1253.0</td>\n",
       "    </tr>\n",
       "    <tr>\n",
       "      <th>1</th>\n",
       "      <td>expences</td>\n",
       "      <td>-465</td>\n",
       "      <td>-546.0</td>\n",
       "    </tr>\n",
       "    <tr>\n",
       "      <th>2</th>\n",
       "      <td>gross profit (loss)</td>\n",
       "      <td>691</td>\n",
       "      <td>707.0</td>\n",
       "    </tr>\n",
       "    <tr>\n",
       "      <th>3</th>\n",
       "      <td>tax</td>\n",
       "      <td>0</td>\n",
       "      <td>-24.0</td>\n",
       "    </tr>\n",
       "    <tr>\n",
       "      <th>4</th>\n",
       "      <td>net profit</td>\n",
       "      <td>691</td>\n",
       "      <td>683.0</td>\n",
       "    </tr>\n",
       "    <tr>\n",
       "      <th>5</th>\n",
       "      <td>NaN</td>\n",
       "      <td>45</td>\n",
       "      <td>55.0</td>\n",
       "    </tr>\n",
       "    <tr>\n",
       "      <th>6</th>\n",
       "      <td>revenue</td>\n",
       "      <td>145</td>\n",
       "      <td>155.0</td>\n",
       "    </tr>\n",
       "  </tbody>\n",
       "</table>\n",
       "</div>"
      ],
      "text/plain": [
       "            Unnamed: 0  previous  current\n",
       "0              revenue      1156   1253.0\n",
       "1             expences      -465   -546.0\n",
       "2  gross profit (loss)       691    707.0\n",
       "3                  tax         0    -24.0\n",
       "4           net profit       691    683.0\n",
       "5                  NaN        45     55.0\n",
       "6              revenue       145    155.0"
      ]
     },
     "execution_count": 9,
     "metadata": {},
     "output_type": "execute_result"
    }
   ],
   "source": [
    "previous_DF"
   ]
  },
  {
   "cell_type": "code",
   "execution_count": 33,
   "id": "267d0f12",
   "metadata": {},
   "outputs": [],
   "source": [
    "previous_DF.drop('current',axis=1,inplace=True)"
   ]
  },
  {
   "cell_type": "code",
   "execution_count": 52,
   "id": "1f5bd3f5",
   "metadata": {},
   "outputs": [
    {
     "data": {
      "text/plain": [
       "1"
      ]
     },
     "execution_count": 52,
     "metadata": {},
     "output_type": "execute_result"
    }
   ],
   "source": [
    "previous_DF['Unnamed: 0'].tolist().index('expences')"
   ]
  },
  {
   "cell_type": "code",
   "execution_count": null,
   "id": "7092e786",
   "metadata": {},
   "outputs": [],
   "source": []
  }
 ],
 "metadata": {
  "kernelspec": {
   "display_name": "Python 3 (ipykernel)",
   "language": "python",
   "name": "python3"
  },
  "language_info": {
   "codemirror_mode": {
    "name": "ipython",
    "version": 3
   },
   "file_extension": ".py",
   "mimetype": "text/x-python",
   "name": "python",
   "nbconvert_exporter": "python",
   "pygments_lexer": "ipython3",
   "version": "3.9.7"
  }
 },
 "nbformat": 4,
 "nbformat_minor": 5
}
